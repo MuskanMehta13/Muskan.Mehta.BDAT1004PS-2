{
 "cells": [
  {
   "cell_type": "code",
   "execution_count": 1,
   "id": "6bbd87cd",
   "metadata": {},
   "outputs": [
    {
     "data": {
      "text/plain": [
       "6"
      ]
     },
     "execution_count": 1,
     "metadata": {},
     "output_type": "execute_result"
    }
   ],
   "source": [
    "# Question 1. Consider the following Python module:\n",
    "a = 0\n",
    "\n",
    "def b():\n",
    "    global a\n",
    "    a = c(a)\n",
    "\n",
    "def c(a):\n",
    "    return a + 2\n",
    "\n",
    "b()\n",
    "b()\n",
    "b()\n",
    "a\n",
    "\n",
    "\n",
    "\n",
    "# What value is displayed when the last expression (a) is evaluated? Explain your answer by indicating what happens in every executed statement."
   ]
  },
  {
   "cell_type": "code",
   "execution_count": 2,
   "id": "1cc63936",
   "metadata": {},
   "outputs": [],
   "source": [
    "# Answer 1: In the initial step, a is assigned value of 0. Then variable b is introduced and a is assigned as a global variable. \n",
    "# b variable uses c variable which adds 2 to the value of a. Then the b function is called 3 times and finally the value of a is printed.\n",
    "# So in the first output of b() the output would have been 2. Since the command is iterated 3 times hence the final output will be 6."
   ]
  },
  {
   "cell_type": "code",
   "execution_count": 3,
   "id": "43b58ee8",
   "metadata": {},
   "outputs": [],
   "source": [
    "# Question 2. Modify function fileLength() so that a friendly message is printed instead:\n",
    "# Answer 2: \n",
    "\n",
    "def fileLength(a):                                         \n",
    "    try:                                                    \n",
    "        f1 = open(a, \"r\")                                     \n",
    "        f2 = f1.read()                                               \n",
    "        print('The filelength is '+ str(len(f2)))         \n",
    "        f1.close()                                                   \n",
    "    except:                                                           \n",
    "        print('File '+a+' not found')     "
   ]
  },
  {
   "cell_type": "code",
   "execution_count": 5,
   "id": "b0e02995",
   "metadata": {},
   "outputs": [
    {
     "name": "stdout",
     "output_type": "stream",
     "text": [
      "The filelength is 461\n"
     ]
    }
   ],
   "source": [
    "fileLength('Midterm.py')"
   ]
  },
  {
   "cell_type": "code",
   "execution_count": 6,
   "id": "fa15803d",
   "metadata": {},
   "outputs": [
    {
     "name": "stdout",
     "output_type": "stream",
     "text": [
      "File idterm.py not found\n"
     ]
    }
   ],
   "source": [
    "fileLength('idterm.py')"
   ]
  },
  {
   "cell_type": "code",
   "execution_count": 7,
   "id": "26149382",
   "metadata": {},
   "outputs": [],
   "source": [
    "# Question 3. Write a class named Marsupial that can be used as shown below\n",
    "# Answer 3:\n",
    "\n",
    "class Marsupial(object):                     \n",
    "  \n",
    "    def __init__(self):                               \n",
    "        self.contents = []                     \n",
    "    def put_in_pouch(self, item):             \n",
    "        self.contents.append(item)\n",
    "    def pouch_contents(self):                \n",
    "        return self.contents "
   ]
  },
  {
   "cell_type": "code",
   "execution_count": 8,
   "id": "5033f8a8",
   "metadata": {},
   "outputs": [
    {
     "data": {
      "text/plain": [
       "['doll', 'firetruck', 'kitten']"
      ]
     },
     "execution_count": 8,
     "metadata": {},
     "output_type": "execute_result"
    }
   ],
   "source": [
    "a = Marsupial()\n",
    "a.put_in_pouch('doll')\n",
    "a.put_in_pouch('firetruck')\n",
    "a.put_in_pouch('kitten')\n",
    "a.pouch_contents()"
   ]
  },
  {
   "cell_type": "code",
   "execution_count": 9,
   "id": "ff5ab4a5",
   "metadata": {},
   "outputs": [],
   "source": [
    "class Kangaroo(Marsupial):                      \n",
    "    \n",
    "    def __init__(self,x,y):                                     \n",
    "        Marsupial.__init__(self)                 \n",
    "        self.x = x                                \n",
    "        self.y = y\n",
    "                                  \n",
    "    def jump(self,dx,dy):                         \n",
    "        self.x = self.x + dx\n",
    "        self.y = self.y + dy\n",
    "        \n",
    "    def __str__(self):                           \n",
    "        return 'I am a Kangaroo located at coordinates ({},{})'.format(self.x,self.y)"
   ]
  },
  {
   "cell_type": "code",
   "execution_count": 10,
   "id": "c3ec88a1",
   "metadata": {},
   "outputs": [
    {
     "name": "stdout",
     "output_type": "stream",
     "text": [
      "I am a Kangaroo located at coordinates (2,3)\n"
     ]
    }
   ],
   "source": [
    "# Part a\n",
    "b = Kangaroo(2,3)\n",
    "print(b)"
   ]
  },
  {
   "cell_type": "code",
   "execution_count": 11,
   "id": "8411168a",
   "metadata": {},
   "outputs": [
    {
     "data": {
      "text/plain": [
       "['doll', 'firetruck', 'kitten']"
      ]
     },
     "execution_count": 11,
     "metadata": {},
     "output_type": "execute_result"
    }
   ],
   "source": [
    "# Part b\n",
    "b.put_in_pouch('doll')\n",
    "b.put_in_pouch('firetruck')\n",
    "b.put_in_pouch('kitten')\n",
    "b.pouch_contents()"
   ]
  },
  {
   "cell_type": "code",
   "execution_count": 12,
   "id": "826df62a",
   "metadata": {},
   "outputs": [
    {
     "name": "stdout",
     "output_type": "stream",
     "text": [
      "I am a Kangaroo located at coordinates (5,9)\n"
     ]
    }
   ],
   "source": [
    "# Part c\n",
    "b.jump(1,2)\n",
    "b.jump(1,2)\n",
    "b.jump(1,2)\n",
    "print(b)"
   ]
  },
  {
   "cell_type": "code",
   "execution_count": 13,
   "id": "8ebf4550",
   "metadata": {},
   "outputs": [],
   "source": [
    "# Question 4 Write function collatz() that takes a positive integer x as input and prints the Collatz sequence starting at x.\n",
    "# Answer 4:\n",
    "\n",
    "def collatz(a):                  \n",
    "   \n",
    "    if a != 1:                   \n",
    "        if a%2!=0:                \n",
    "            print(int(a))         \n",
    "            collatz(3*a+1)       \n",
    "        \n",
    "        else:\n",
    "            print(int(a))         \n",
    "            collatz(a/2)          \n",
    "  \n",
    "    else:\n",
    "        print(int(a));"
   ]
  },
  {
   "cell_type": "code",
   "execution_count": 14,
   "id": "21d5ba28",
   "metadata": {},
   "outputs": [
    {
     "name": "stdout",
     "output_type": "stream",
     "text": [
      "1\n"
     ]
    }
   ],
   "source": [
    "collatz(1)"
   ]
  },
  {
   "cell_type": "code",
   "execution_count": 15,
   "id": "501d3ea4",
   "metadata": {},
   "outputs": [
    {
     "name": "stdout",
     "output_type": "stream",
     "text": [
      "10\n",
      "5\n",
      "16\n",
      "8\n",
      "4\n",
      "2\n",
      "1\n"
     ]
    }
   ],
   "source": [
    "collatz(10)"
   ]
  },
  {
   "cell_type": "code",
   "execution_count": 16,
   "id": "c402de16",
   "metadata": {},
   "outputs": [],
   "source": [
    "# Question 5 Write a recursive method binary() that takes a non-negative integer n and prints the binary representation of integer n.\n",
    "# Answer 5:\n",
    "\n",
    "def binary(a):\n",
    "    \n",
    "    if a>0:                          \n",
    "        return (a % 2 + 10*binary(int(a // 2)))\n",
    "       \n",
    "    else:\n",
    "         return 0"
   ]
  },
  {
   "cell_type": "code",
   "execution_count": 17,
   "id": "6eb3b08a",
   "metadata": {},
   "outputs": [
    {
     "data": {
      "text/plain": [
       "0"
      ]
     },
     "execution_count": 17,
     "metadata": {},
     "output_type": "execute_result"
    }
   ],
   "source": [
    "binary(0)"
   ]
  },
  {
   "cell_type": "code",
   "execution_count": 18,
   "id": "a4f00fd9",
   "metadata": {},
   "outputs": [
    {
     "data": {
      "text/plain": [
       "1"
      ]
     },
     "execution_count": 18,
     "metadata": {},
     "output_type": "execute_result"
    }
   ],
   "source": [
    "binary(1)"
   ]
  },
  {
   "cell_type": "code",
   "execution_count": 19,
   "id": "de3ffbea",
   "metadata": {},
   "outputs": [
    {
     "data": {
      "text/plain": [
       "11"
      ]
     },
     "execution_count": 19,
     "metadata": {},
     "output_type": "execute_result"
    }
   ],
   "source": [
    "binary(3)"
   ]
  },
  {
   "cell_type": "code",
   "execution_count": 20,
   "id": "cf623b39",
   "metadata": {},
   "outputs": [
    {
     "data": {
      "text/plain": [
       "1001"
      ]
     },
     "execution_count": 20,
     "metadata": {},
     "output_type": "execute_result"
    }
   ],
   "source": [
    "binary(9)"
   ]
  },
  {
   "cell_type": "code",
   "execution_count": 21,
   "id": "05fd9f95",
   "metadata": {},
   "outputs": [
    {
     "data": {
      "text/plain": [
       "10000"
      ]
     },
     "execution_count": 21,
     "metadata": {},
     "output_type": "execute_result"
    }
   ],
   "source": [
    "binary(16)"
   ]
  },
  {
   "cell_type": "code",
   "execution_count": 22,
   "id": "264744a2",
   "metadata": {},
   "outputs": [],
   "source": [
    "# Question 6 Implement a class named HeadingParser that can be used to parse an HTML document, and retrieve and print all the headings in the document. You should implement your class as a subclass of HTMLParser, defined in Standard Library module html.parser.\n",
    "# Answer 6:\n",
    "\n",
    "from html.parser import HTMLParser                               \n",
    "class HeadingParser(HTMLParser):                      \n",
    "    def __init__(self):                                                 \n",
    "        HTMLParser.__init__(self)                           \n",
    "        self.head =0                                                          \n",
    "        self.intend = \"\"\n",
    "    def handle_starttag(self, tag, attributes):              \n",
    "        if tag[:-1]=='h':\n",
    "            self.head = 'type'\n",
    "    def handle_data(self, data):                             \n",
    "        if self.head==\"type\":\n",
    "            print(self.intend+ data)                         \n",
    "            self.intend+= \"    \"\n",
    "            self.head=0 "
   ]
  },
  {
   "cell_type": "code",
   "execution_count": 23,
   "id": "587e9e01",
   "metadata": {},
   "outputs": [
    {
     "name": "stdout",
     "output_type": "stream",
     "text": [
      "W3C Mission\n",
      "    Principles\n"
     ]
    }
   ],
   "source": [
    "infile = open('w3c.html')\n",
    "content = infile.read()\n",
    "infile.close()\n",
    "hp = HeadingParser()\n",
    "hp.feed(content)"
   ]
  },
  {
   "cell_type": "code",
   "execution_count": 29,
   "id": "7eb26995",
   "metadata": {},
   "outputs": [],
   "source": [
    "# Question 7 Implement recursive function webdir() that takes as input: a URL (as a string) and non-negative integers depth and indent.\n",
    "# Answer 7:\n",
    "\n",
    "from html.parser import HTMLParser    \n",
    "from urllib.request import urlopen\n",
    "from urllib.parse import urljoin\n",
    "\n",
    "class collector(HTMLParser):\n",
    "    \n",
    "\n",
    "    def __init__(self, url):\n",
    "      \n",
    "        HTMLParser.__init__(self)\n",
    "        self.url = url\n",
    "        self.links = []\n",
    "\n",
    "\n",
    "    def append(self):\n",
    "        \n",
    "        return self.links\n",
    "\n",
    "\n",
    "    def handle_starttag(self, url_tag, attributes):\n",
    "        for i in attributes:\n",
    "            b = urljoin(self.url, a[1])\n",
    "            if b[:4] == 'http': \n",
    "                self.url_links.append(b)\n",
    "                i = 0\n",
    "def webdir(url, depth, i):\n",
    "   \n",
    "\n",
    "    depth = depth - 1    \n",
    "    print(i*'  ', url)         \n",
    "\n",
    "    objective = urlopen(url).read().decode()\n",
    "    collection = urlcollector(url)\n",
    "    collection.feed(objective)\n",
    "    urls = collection.append() \n",
    " \n",
    "    links = urls\n",
    "    i= i + 4\n",
    "\n",
    "\n",
    "    for link in links:\n",
    "        if depth < 0 or i < 0:\n",
    "            return 1\n",
    "        else:\n",
    "            webdir(link, depth, i)\n"
   ]
  },
  {
   "cell_type": "code",
   "execution_count": 30,
   "id": "e703e486",
   "metadata": {},
   "outputs": [
    {
     "name": "stdout",
     "output_type": "stream",
     "text": [
      " http://reed.cs.depaul.edu/lperkovic/test1.html\n"
     ]
    },
    {
     "ename": "NameError",
     "evalue": "name 'urlcollector' is not defined",
     "output_type": "error",
     "traceback": [
      "\u001b[1;31m---------------------------------------------------------------------------\u001b[0m",
      "\u001b[1;31mNameError\u001b[0m                                 Traceback (most recent call last)",
      "Input \u001b[1;32mIn [30]\u001b[0m, in \u001b[0;36m<cell line: 1>\u001b[1;34m()\u001b[0m\n\u001b[1;32m----> 1\u001b[0m \u001b[43mwebdir\u001b[49m\u001b[43m(\u001b[49m\u001b[38;5;124;43m'\u001b[39;49m\u001b[38;5;124;43mhttp://reed.cs.depaul.edu/lperkovic/test1.html\u001b[39;49m\u001b[38;5;124;43m'\u001b[39;49m\u001b[43m,\u001b[49m\u001b[43m \u001b[49m\u001b[38;5;241;43m0\u001b[39;49m\u001b[43m,\u001b[49m\u001b[43m \u001b[49m\u001b[38;5;241;43m0\u001b[39;49m\u001b[43m)\u001b[49m\n",
      "Input \u001b[1;32mIn [29]\u001b[0m, in \u001b[0;36mwebdir\u001b[1;34m(url, depth, i)\u001b[0m\n\u001b[0;32m     33\u001b[0m \u001b[38;5;28mprint\u001b[39m(i\u001b[38;5;241m*\u001b[39m\u001b[38;5;124m'\u001b[39m\u001b[38;5;124m  \u001b[39m\u001b[38;5;124m'\u001b[39m, url)         \n\u001b[0;32m     35\u001b[0m objective \u001b[38;5;241m=\u001b[39m urlopen(url)\u001b[38;5;241m.\u001b[39mread()\u001b[38;5;241m.\u001b[39mdecode()\n\u001b[1;32m---> 36\u001b[0m collection \u001b[38;5;241m=\u001b[39m \u001b[43murlcollector\u001b[49m(url)\n\u001b[0;32m     37\u001b[0m collection\u001b[38;5;241m.\u001b[39mfeed(objective)\n\u001b[0;32m     38\u001b[0m urls \u001b[38;5;241m=\u001b[39m collection\u001b[38;5;241m.\u001b[39mappend() \n",
      "\u001b[1;31mNameError\u001b[0m: name 'urlcollector' is not defined"
     ]
    }
   ],
   "source": [
    "webdir('http://reed.cs.depaul.edu/lperkovic/test1.html', 0, 0)"
   ]
  },
  {
   "cell_type": "code",
   "execution_count": 31,
   "id": "9355e3c6",
   "metadata": {},
   "outputs": [],
   "source": [
    "# Question 8 Write SQL queries on the below database table that return:\n",
    "\n",
    "import sqlite3\n",
    "a = sqlite3.connect('database_db')\n",
    "b = a.cursor()\n",
    "b.execute(\"Creat Table database_d (City, Country, Season, Temperature, Rainfall)\")\n",
    "b.execute(\"Insert into database_d values ('Mumbai', 'India', 'Winter', 24.8, 5.9)\")\n",
    "b.execute(\"Insert into database_d values ('Mumbai', 'India', 'Spring', 28.4, 16.2)\")\n",
    "b.execute(\"Insert into database_d values ('Mumbai', 'India', 'Summer', 27.9, 1549.4)\")\n",
    "b.execute(\"Insert into database_d values ('Mumbai', 'India', 'Fall', 27.6, 346.0)\")\n",
    "b.execute(\"Insert into database_d values ('London', 'United Kingdom', 'Winter', 4.2, 207.7)\")\n",
    "b.execute(\"Insert into database_d values ('London', 'United Kingdom', 'Spring', 8.3, 169.6)\")\n",
    "b.execute(\"Insert into database_d values ('London', 'United Kingdom', 'Summer', 15.7, 157.0)\")\n",
    "b.execute(\"Insert into database_d values ('London', 'United Kingdom', 'Fall', 10.4, 218.5)\")\n",
    "b.execute(\"Insert into database_d values ('Cairo', 'Egypt', 'Winter', 13.6, 16.5)\")\n",
    "b.execute(\"Insert into database_d values ('Cairo', 'Egypt', 'Spring', 20.7, 6.5)\")\n",
    "b.execute(\"Insert into database_d values ('Cairo', 'Egypt', 'Summer', 27.7, 0.1)\")\n",
    "b.execute(\"Insert into database_d values ('Cairo', 'Egypt', 'Fall', 22.2, 4.5)\")\n",
    "a.commit()\n",
    "a.close()"
   ]
  },
  {
   "cell_type": "code",
   "execution_count": 32,
   "id": "34d3555a",
   "metadata": {},
   "outputs": [
    {
     "name": "stdout",
     "output_type": "stream",
     "text": [
      "(24.8,)\n",
      "(28.4,)\n",
      "(27.9,)\n",
      "(27.6,)\n",
      "(4.2,)\n",
      "(8.3,)\n",
      "(15.7,)\n",
      "(10.4,)\n",
      "(13.6,)\n",
      "(20.7,)\n",
      "(27.7,)\n",
      "(22.2,)\n",
      "('Mumbai',)\n",
      "('London',)\n",
      "('Cairo',)\n",
      "('Mumbai', 'India', 'Fall', 27.6, 346)\n",
      "('London', 'United Kingdom', 'Fall', 10.4, 218.5)\n",
      "('Cairo', 'Egypt', 'Fall', 22.2, 4.5)\n",
      "('Mumbai', 'India', 'Winter', 24.8, 5.9)\n",
      "('Mumbai', 'India', 'Spring', 28.4, 16.2)\n",
      "('Mumbai', 'India', 'Summer', 27.9, 1549.4)\n",
      "('Mumbai', 'India', 'Fall', 27.6, 346)\n",
      "('Mumbai', 'India')\n",
      "('Cairo', 'Egypt')\n",
      "('Mumbai', 'India', 'Fall')\n",
      "('London', 'United Kingdom', 'Winter')\n",
      "('London', 'United Kingdom', 'Fall')\n",
      "[(27.6,)]\n",
      "(569.0, 'Fall')\n",
      "(192.29999999999998, 'Spring')\n",
      "(1706.5, 'Summer')\n",
      "(230.1, 'Winter')\n"
     ]
    }
   ],
   "source": [
    "import sqlite3\n",
    "a = sqlite3.connect('database_db')\n",
    "b = a.cursor()\n",
    "b.execute('Select Temperature from database_d ')\n",
    "for record in b:\n",
    "    print(record)\n",
    "b.execute('Select distinct City from database_d ')\n",
    "for record in b:\n",
    "    print(record)\n",
    "b.execute('Select * from database_d  where Season=\"Fall\"')\n",
    "for record in b:\n",
    "    print(record)\n",
    "b.execute('Select * from database_d  where Country=\"India\"')\n",
    "for record in b:\n",
    "    print(record)\n",
    "b.execute('Select City, Country from database_d  where (Season =\"Fall\") and (temperature>20) in increaing temperature order')\n",
    "for record in b:\n",
    "    print(record)\n",
    "b.execute('Select City, Country, season from database_d  where (rainfall>200) and (rainfall<400)')\n",
    "for record in b:\n",
    "    print(record)\n",
    "b.execute('Select Sum(Rainfall) from database_d  where City=\"Cairo\"')\n",
    "rainfall_new=b.fetchall()\n",
    "print(rainfall_new)\n",
    "b.execute('Select Sum(Rainfall), Season from database_d total rainfall seasonwise')\n",
    "for record in b:\n",
    "    print(record)"
   ]
  },
  {
   "cell_type": "code",
   "execution_count": 33,
   "id": "f90f6ae7",
   "metadata": {},
   "outputs": [
    {
     "data": {
      "text/plain": [
       "['THE', 'QUICK', 'BROWN', 'FOX', 'JUMPS', 'OVER', 'THE', 'LAZY', 'DOG']"
      ]
     },
     "execution_count": 33,
     "metadata": {},
     "output_type": "execute_result"
    }
   ],
   "source": [
    "# Question 9 Write list comprehension expressions that use list words and generate the following lists:\n",
    "#Answer 9:\n",
    "\n",
    "# Part a\n",
    "\n",
    "words = ['The', 'quick', 'brown', 'fox', 'jumps', 'over', 'the', 'lazy', 'dog']\n",
    "[a.upper() for a in words]"
   ]
  },
  {
   "cell_type": "code",
   "execution_count": 34,
   "id": "dfe407cd",
   "metadata": {},
   "outputs": [
    {
     "data": {
      "text/plain": [
       "['the', 'quick', 'brown', 'fox', 'jumps', 'over', 'the', 'lazy', 'dog']"
      ]
     },
     "execution_count": 34,
     "metadata": {},
     "output_type": "execute_result"
    }
   ],
   "source": [
    "# Part b\n",
    "\n",
    "[a.lower() for a in words]"
   ]
  },
  {
   "cell_type": "code",
   "execution_count": 35,
   "id": "0b635de4",
   "metadata": {},
   "outputs": [
    {
     "data": {
      "text/plain": [
       "[3, 5, 5, 3, 5, 4, 3, 4, 3]"
      ]
     },
     "execution_count": 35,
     "metadata": {},
     "output_type": "execute_result"
    }
   ],
   "source": [
    "# Part c\n",
    "\n",
    "[len(a) for a in words]"
   ]
  },
  {
   "cell_type": "code",
   "execution_count": 36,
   "id": "f42b0e6c",
   "metadata": {},
   "outputs": [
    {
     "data": {
      "text/plain": [
       "[['THE', 'the', 3],\n",
       " ['QUICK', 'quick', 5],\n",
       " ['BROWN', 'brown', 5],\n",
       " ['FOX', 'fox', 3],\n",
       " ['JUMPS', 'jumps', 5],\n",
       " ['OVER', 'over', 4],\n",
       " ['THE', 'the', 3],\n",
       " ['LAZY', 'lazy', 4],\n",
       " ['DOG', 'dog', 3]]"
      ]
     },
     "execution_count": 36,
     "metadata": {},
     "output_type": "execute_result"
    }
   ],
   "source": [
    "# Part d\n",
    "\n",
    "[[a.upper(),a.lower(),len(a)] for a in words]"
   ]
  },
  {
   "cell_type": "code",
   "execution_count": 37,
   "id": "f186c91b",
   "metadata": {},
   "outputs": [
    {
     "data": {
      "text/plain": [
       "['quick', 'brown', 'jumps', 'over', 'lazy']"
      ]
     },
     "execution_count": 37,
     "metadata": {},
     "output_type": "execute_result"
    }
   ],
   "source": [
    "# Part e\n",
    "\n",
    "[a for a in words if len(a) >= 4]"
   ]
  },
  {
   "cell_type": "code",
   "execution_count": null,
   "id": "d7573524",
   "metadata": {},
   "outputs": [],
   "source": []
  }
 ],
 "metadata": {
  "kernelspec": {
   "display_name": "Python 3 (ipykernel)",
   "language": "python",
   "name": "python3"
  },
  "language_info": {
   "codemirror_mode": {
    "name": "ipython",
    "version": 3
   },
   "file_extension": ".py",
   "mimetype": "text/x-python",
   "name": "python",
   "nbconvert_exporter": "python",
   "pygments_lexer": "ipython3",
   "version": "3.9.12"
  }
 },
 "nbformat": 4,
 "nbformat_minor": 5
}
